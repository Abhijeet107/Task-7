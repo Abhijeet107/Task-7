{
 "cells": [
  {
   "cell_type": "code",
   "execution_count": 1,
   "id": "5d7e805d",
   "metadata": {},
   "outputs": [
    {
     "name": "stdout",
     "output_type": "stream",
     "text": [
      "Database 'sales_data.db' created successfully with 'sales' table and sample data!\n"
     ]
    }
   ],
   "source": [
    "import sqlite3\n",
    "\n",
    "# Connect to SQLite database file (it will be created if it doesn't exist)\n",
    "conn = sqlite3.connect('sales_data.db')\n",
    "\n",
    "# Create a cursor object\n",
    "cur = conn.cursor()\n",
    "\n",
    "# Create a sales table\n",
    "cur.execute('''\n",
    "CREATE TABLE IF NOT EXISTS sales (\n",
    "    Sales_Person TEXT,\n",
    "    Country TEXT,\n",
    "    Product TEXT,\n",
    "    Date TEXT,\n",
    "    Revenue REAL,\n",
    "    Quantity INTEGER\n",
    ")\n",
    "''')\n",
    "\n",
    "# Insert sample data\n",
    "sample_data = [\n",
    "    ('Jehu Rudeforth', 'UK', 'Mint Chip Choco', '2022-01-04', 5320.0, 180),\n",
    "    ('Van Tuxwell', 'India', '85% Dark Bars', '2022-08-01', 7896.0, 94),\n",
    "    ('Gigi Bohling', 'India', 'Peanut Butter Cubes', '2022-07-07', 4501.0, 91),\n",
    "    ('Jan Morforth', 'Australia', 'Peanut Butter Cubes', '2022-04-27', 12726.0, 342),\n",
    "    ('Jehu Rudeforth', 'UK', 'Peanut Butter Cubes', '2022-02-24', 13685.0, 184)\n",
    "]\n",
    "\n",
    "cur.executemany('''\n",
    "INSERT INTO sales (Sales_Person, Country, Product, Date, Revenue, Quantity)\n",
    "VALUES (?, ?, ?, ?, ?, ?)\n",
    "''', sample_data)\n",
    "\n",
    "# Commit changes and close the connection\n",
    "conn.commit()\n",
    "conn.close()\n",
    "\n",
    "print(\"Database 'sales_data.db' created successfully with 'sales' table and sample data!\")\n"
   ]
  },
  {
   "cell_type": "code",
   "execution_count": 6,
   "id": "43dd58ab",
   "metadata": {},
   "outputs": [
    {
     "name": "stdout",
     "output_type": "stream",
     "text": [
      "     Sales_Person    Country              Product        Date  Revenue  \\\n",
      "0  Jehu Rudeforth         UK      Mint Chip Choco  2022-01-04   5320.0   \n",
      "1     Van Tuxwell      India        85% Dark Bars  2022-08-01   7896.0   \n",
      "2    Gigi Bohling      India  Peanut Butter Cubes  2022-07-07   4501.0   \n",
      "3    Jan Morforth  Australia  Peanut Butter Cubes  2022-04-27  12726.0   \n",
      "4  Jehu Rudeforth         UK  Peanut Butter Cubes  2022-02-24  13685.0   \n",
      "\n",
      "   Quantity  \n",
      "0       180  \n",
      "1        94  \n",
      "2        91  \n",
      "3       342  \n",
      "4       184  \n"
     ]
    }
   ],
   "source": [
    "import sqlite3\n",
    "import pandas as pd\n",
    "\n",
    "# Connect to the existing database\n",
    "conn = sqlite3.connect('sales_data.db')\n",
    "\n",
    "# Read entire sales table into a pandas DataFrame\n",
    "df = pd.read_sql_query(\"SELECT * FROM sales\", conn)\n",
    "\n",
    "# Display the whole DataFrame\n",
    "print(df)\n",
    "\n",
    "# Close the connection\n",
    "conn.close()\n"
   ]
  },
  {
   "cell_type": "code",
   "execution_count": 9,
   "id": "eb18b801",
   "metadata": {},
   "outputs": [
    {
     "name": "stdout",
     "output_type": "stream",
     "text": [
      "               Product  Total_qty  Total_Revenue\n",
      "0        85% Dark Bars         94       742224.0\n",
      "1      Mint Chip Choco        180       957600.0\n",
      "2  Peanut Butter Cubes        617      7279923.0\n"
     ]
    }
   ],
   "source": [
    "# Connect to the existing database\n",
    "conn = sqlite3.connect('sales_data.db')\n",
    "\n",
    "# Query the database\n",
    "query = '''\n",
    "SELECT Product, sum(Quantity)as Total_qty, sum(Quantity * Revenue) AS Total_Revenue\n",
    "FROM sales\n",
    "group by Product\n",
    "'''\n",
    "result_df = pd.read_sql_query(query, conn)\n",
    "\n",
    "# Display the result\n",
    "print(result_df)\n",
    "\n",
    "# Close the connection\n",
    "conn.close()"
   ]
  },
  {
   "cell_type": "code",
   "execution_count": null,
   "id": "c3e06f14",
   "metadata": {},
   "outputs": [
    {
     "data": {
      "image/png": "[encoded data removed]",
      "text/plain": [
       "<Figure size 640x480 with 1 Axes>"
      ]
     },
     "metadata": {},
     "output_type": "display_data"
    }
   ],
   "source": [
    "import matplotlib.pyplot as plt\n",
    "# Adding data labels to the bar chart\n",
    "for i, value in enumerate(result_df['Total_Revenue']):\n",
    "    plt.text(i, value, f'{value:.2f}', ha='center', va='bottom')\n",
    "# Plotting the bar chart\n",
    "plt.bar(result_df['Product'], result_df['Total_Revenue'], color='skyblue')\n",
    "plt.xlabel('Product')\n",
    "plt.ylabel('Total Revenue')\n",
    "plt.title('Product vs Total Revenue')\n",
    "plt.xticks(rotation=45, ha='right')\n",
    "plt.tight_layout()\n",
    "# Show the plot\n",
    "plt.savefig('product_vs_total_revenue.png')\n",
    "plt.show()"
   ]
  }
 ],
 "metadata": {
  "kernelspec": {
   "display_name": "Python 3",
   "language": "python",
   "name": "python3"
  },
  "language_info": {
   "codemirror_mode": {
    "name": "ipython",
    "version": 3
   },
   "file_extension": ".py",
   "mimetype": "text/x-python",
   "name": "python",
   "nbconvert_exporter": "python",
   "pygments_lexer": "ipython3",
   "version": "3.11.1"
  }
 },
 "nbformat": 4,
 "nbformat_minor": 5
}
